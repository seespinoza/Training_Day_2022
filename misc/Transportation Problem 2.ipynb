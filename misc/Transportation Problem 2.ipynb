{
 "cells": [
  {
   "cell_type": "code",
   "execution_count": 4,
   "metadata": {},
   "outputs": [],
   "source": [
    "import pulp as plp"
   ]
  },
  {
   "cell_type": "markdown",
   "metadata": {},
   "source": [
    "Create problem instance."
   ]
  },
  {
   "cell_type": "code",
   "execution_count": 5,
   "metadata": {},
   "outputs": [
    {
     "data": {
      "text/plain": [
       "transportationProblem2:\n",
       "MINIMIZE\n",
       "None\n",
       "VARIABLES"
      ]
     },
     "execution_count": 5,
     "metadata": {},
     "output_type": "execute_result"
    }
   ],
   "source": [
    "lp_prob = plp.LpProblem(\"transportationProblem2\", plp.LpMinimize)\n",
    "lp_prob "
   ]
  },
  {
   "cell_type": "markdown",
   "metadata": {},
   "source": [
    "Define supply of warehouses."
   ]
  },
  {
   "cell_type": "code",
   "execution_count": 1,
   "metadata": {},
   "outputs": [],
   "source": [
    "w1 = 8\n",
    "w2 = 6\n",
    "\n"
   ]
  },
  {
   "cell_type": "markdown",
   "metadata": {},
   "source": [
    "Define demand of stores. (Remember to include dummy variable; a solution only exists if `supply = demand`.)"
   ]
  },
  {
   "cell_type": "code",
   "execution_count": 6,
   "metadata": {},
   "outputs": [],
   "source": [
    "# Demand\n",
    "s1 = 4\n",
    "s2 = 2\n",
    "\n",
    "dummy_demand = 8"
   ]
  },
  {
   "cell_type": "markdown",
   "metadata": {},
   "source": [
    "Define delivery weights from ith warehouse to jth store."
   ]
  },
  {
   "cell_type": "code",
   "execution_count": 7,
   "metadata": {},
   "outputs": [],
   "source": [
    "#Store 1 to Warehouse 1\n",
    "s1_w1 = 7\n",
    "s2_w1 = 3\n",
    "sd_w1 = 0\n",
    "\n",
    "# ith Store to Warehouse 2\n",
    "s1_w2 = 4\n",
    "s2_w2 = 2\n",
    "sd_w2 = 0\n",
    "\n"
   ]
  },
  {
   "cell_type": "markdown",
   "metadata": {},
   "source": [
    "Define decision variables. We want the number of items transported from i-th warehouse to j-th store (12 possibilities)."
   ]
  },
  {
   "cell_type": "code",
   "execution_count": 8,
   "metadata": {},
   "outputs": [
    {
     "data": {
      "text/plain": [
       "{1: item_quantity_1,\n",
       " 2: item_quantity_2,\n",
       " 3: item_quantity_3,\n",
       " 4: item_quantity_4,\n",
       " 5: item_quantity_5,\n",
       " 6: item_quantity_6}"
      ]
     },
     "execution_count": 8,
     "metadata": {},
     "output_type": "execute_result"
    }
   ],
   "source": [
    "x = plp.LpVariable.dicts(\"item_quantity\", list(range(1, 6 + 1)), lowBound = 0, cat = \"Integer\")\n",
    "\n",
    "x"
   ]
  },
  {
   "cell_type": "markdown",
   "metadata": {},
   "source": [
    "Define objective function. Sum of the product of all decision variable and possible route weights."
   ]
  },
  {
   "cell_type": "code",
   "execution_count": 9,
   "metadata": {},
   "outputs": [],
   "source": [
    "lp_prob += (x[1] * s1_w1 + x[2] * s2_w1 + x[3] * sd_w1 \n",
    "            + x[4] * s1_w2 + x[5] * s2_w2 + x[6] * sd_w2)"
   ]
  },
  {
   "cell_type": "markdown",
   "metadata": {},
   "source": [
    "Supply Constraints"
   ]
  },
  {
   "cell_type": "code",
   "execution_count": 10,
   "metadata": {},
   "outputs": [],
   "source": [
    "lp_prob += x[1] + x[2] + x[3]  == w1\n",
    "lp_prob += x[4] + x[5] + x[6] == w2\n"
   ]
  },
  {
   "cell_type": "markdown",
   "metadata": {},
   "source": [
    "Demand Constraints"
   ]
  },
  {
   "cell_type": "code",
   "execution_count": 11,
   "metadata": {},
   "outputs": [],
   "source": [
    "lp_prob += x[1] + x[4] == s1\n",
    "lp_prob += x[2] + x[5] == s2\n",
    "lp_prob += x[3] + x[6] == dummy_demand"
   ]
  },
  {
   "cell_type": "markdown",
   "metadata": {},
   "source": [
    "Solve"
   ]
  },
  {
   "cell_type": "code",
   "execution_count": 12,
   "metadata": {},
   "outputs": [
    {
     "data": {
      "text/plain": [
       "'Optimal'"
      ]
     },
     "execution_count": 12,
     "metadata": {},
     "output_type": "execute_result"
    }
   ],
   "source": [
    "lp_prob.solve()\n",
    "plp.LpStatus[lp_prob.status]"
   ]
  },
  {
   "cell_type": "markdown",
   "metadata": {},
   "source": [
    "Print Results"
   ]
  },
  {
   "cell_type": "code",
   "execution_count": 15,
   "metadata": {},
   "outputs": [
    {
     "name": "stdout",
     "output_type": "stream",
     "text": [
      "Items from Warehouse 1 to Store 1 = 0.0\n",
      "Items from Warehouse 1 to Store 2 = 0.0\n",
      "Items from Warehouse 2 to Store 1 = 4.0\n",
      "Items from Warehouse 2 to Store 2 = 2.0\n"
     ]
    }
   ],
   "source": [
    "print(\"Items from Warehouse 1 to Store 1 = {}\".format(x[1].varValue))\n",
    "print(\"Items from Warehouse 1 to Store 2 = {}\".format(x[2].varValue))\n",
    "print(\"Items from Warehouse 2 to Store 1 = {}\".format(x[4].varValue))\n",
    "print(\"Items from Warehouse 2 to Store 2 = {}\".format(x[5].varValue))\n"
   ]
  },
  {
   "cell_type": "markdown",
   "metadata": {},
   "source": [
    "Total Cost"
   ]
  },
  {
   "cell_type": "code",
   "execution_count": 14,
   "metadata": {},
   "outputs": [
    {
     "name": "stdout",
     "output_type": "stream",
     "text": [
      "Total transportation cost is $20.0\n"
     ]
    }
   ],
   "source": [
    "print(\"Total transportation cost is ${}\".format(plp.value(lp_prob.objective)))"
   ]
  }
 ],
 "metadata": {
  "kernelspec": {
   "display_name": "Python 3",
   "language": "python",
   "name": "python3"
  },
  "language_info": {
   "codemirror_mode": {
    "name": "ipython",
    "version": 3
   },
   "file_extension": ".py",
   "mimetype": "text/x-python",
   "name": "python",
   "nbconvert_exporter": "python",
   "pygments_lexer": "ipython3",
   "version": "3.8.5"
  }
 },
 "nbformat": 4,
 "nbformat_minor": 4
}
