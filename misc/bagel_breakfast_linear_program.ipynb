{
 "cells": [
  {
   "cell_type": "markdown",
   "metadata": {},
   "source": [
    "# El Salvador DOL Linear Programming Example"
   ]
  },
  {
   "cell_type": "code",
   "execution_count": 61,
   "metadata": {},
   "outputs": [],
   "source": [
    "#!pip install pulp\n",
    "import pulp as plp"
   ]
  },
  {
   "cell_type": "markdown",
   "metadata": {},
   "source": [
    "Create a problem instance. The first parameter specifies the name of the problem, and second parameter will be `LpMaximize` or `LpMinimize` based on the type of linear program you are trying to solve."
   ]
  },
  {
   "cell_type": "code",
   "execution_count": 62,
   "metadata": {},
   "outputs": [
    {
     "data": {
      "text/plain": [
       "breakfastBagelProblem:\n",
       "MAXIMIZE\n",
       "None\n",
       "VARIABLES"
      ]
     },
     "execution_count": 62,
     "metadata": {},
     "output_type": "execute_result"
    }
   ],
   "source": [
    "lp_prob = plp.LpProblem('breakfastBagelProblem', plp.LpMaximize)\n",
    "\n",
    "lp_prob"
   ]
  },
  {
   "cell_type": "markdown",
   "metadata": {},
   "source": [
    "Define decision variables.\n",
    "\n",
    "LpVariable parameters: \n",
    "1. Variable name\n",
    "2. Lower bounds\n",
    "3. Upper bounds\n",
    "4. Data type (LpContinuous or LpInteger)\n"
   ]
  },
  {
   "cell_type": "code",
   "execution_count": 63,
   "metadata": {},
   "outputs": [
    {
     "name": "stdout",
     "output_type": "stream",
     "text": [
      "Variable Names: Blueberry Asiago\n",
      "Variable Values: None None\n"
     ]
    }
   ],
   "source": [
    "B = plp.LpVariable('Blueberry', 0, None, plp.LpInteger)\n",
    "A = plp.LpVariable('Asiago', 0, None, plp.LpInteger)\n",
    "\n",
    "print('Variable Names:', B.name, A.name)\n",
    "print('Variable Values:', B.varValue, A.varValue)"
   ]
  },
  {
   "cell_type": "markdown",
   "metadata": {},
   "source": [
    "Define objective function using decision variables. "
   ]
  },
  {
   "cell_type": "code",
   "execution_count": 64,
   "metadata": {},
   "outputs": [
    {
     "data": {
      "text/plain": [
       "breakfastBagelProblem:\n",
       "MAXIMIZE\n",
       "350*Asiago + 100*Blueberry + 0\n",
       "VARIABLES\n",
       "0 <= Asiago Integer\n",
       "0 <= Blueberry Integer"
      ]
     },
     "execution_count": 64,
     "metadata": {},
     "output_type": "execute_result"
    }
   ],
   "source": [
    "lp_prob += 100 * B + 350 * A\n",
    "\n",
    "lp_prob"
   ]
  },
  {
   "cell_type": "markdown",
   "metadata": {},
   "source": [
    "Define constraints using decision variables and inequalities."
   ]
  },
  {
   "cell_type": "code",
   "execution_count": 65,
   "metadata": {},
   "outputs": [],
   "source": [
    "lp_prob += B + 3 * A <= 30\n",
    "lp_prob += A <= 5\n"
   ]
  },
  {
   "cell_type": "markdown",
   "metadata": {},
   "source": [
    "Solve the linear program."
   ]
  },
  {
   "cell_type": "code",
   "execution_count": 66,
   "metadata": {},
   "outputs": [
    {
     "data": {
      "text/plain": [
       "1"
      ]
     },
     "execution_count": 66,
     "metadata": {},
     "output_type": "execute_result"
    }
   ],
   "source": [
    "lp_prob.solve()"
   ]
  },
  {
   "cell_type": "markdown",
   "metadata": {},
   "source": [
    "Print the optimized values."
   ]
  },
  {
   "cell_type": "code",
   "execution_count": 67,
   "metadata": {},
   "outputs": [
    {
     "name": "stdout",
     "output_type": "stream",
     "text": [
      "Asiago = 5.0\n",
      "Blueberry = 15.0\n"
     ]
    }
   ],
   "source": [
    "for v in lp_prob.variables():\n",
    "    print(v.name, '=', v.varValue)"
   ]
  }
 ],
 "metadata": {
  "kernelspec": {
   "display_name": "Python 3",
   "language": "python",
   "name": "python3"
  },
  "language_info": {
   "codemirror_mode": {
    "name": "ipython",
    "version": 3
   },
   "file_extension": ".py",
   "mimetype": "text/x-python",
   "name": "python",
   "nbconvert_exporter": "python",
   "pygments_lexer": "ipython3",
   "version": "3.8.5"
  }
 },
 "nbformat": 4,
 "nbformat_minor": 4
}
