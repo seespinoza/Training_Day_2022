{
 "cells": [
  {
   "cell_type": "markdown",
   "metadata": {},
   "source": [
    "# El Salvador DOL Linear Programming Example"
   ]
  },
  {
   "cell_type": "code",
   "execution_count": 48,
   "metadata": {},
   "outputs": [],
   "source": [
    "#!pip install pulp\n",
    "import pulp as plp"
   ]
  },
  {
   "cell_type": "markdown",
   "metadata": {},
   "source": [
    "Create a problem instance. The first parameter specifies the name of the problem, and second parameter will be `LpMaximize` or `LpMinimize` based on the type of linear program you are trying to solve."
   ]
  },
  {
   "cell_type": "code",
   "execution_count": 49,
   "metadata": {},
   "outputs": [
    {
     "data": {
      "text/plain": [
       "fraudsterWalletProblem:\n",
       "MAXIMIZE\n",
       "None\n",
       "VARIABLES"
      ]
     },
     "execution_count": 49,
     "metadata": {},
     "output_type": "execute_result"
    }
   ],
   "source": [
    "lp_prob = plp.LpProblem('fraudsterWalletProblem', plp.LpMaximize)\n",
    "\n",
    "lp_prob"
   ]
  },
  {
   "cell_type": "markdown",
   "metadata": {},
   "source": [
    "Define decision variables.\n",
    "\n",
    "LpVariable parameters: \n",
    "1. Variable name\n",
    "2. Lower bounds\n",
    "3. Upper bounds\n",
    "4. Data type (LpContinuous or LpInteger)\n"
   ]
  },
  {
   "cell_type": "code",
   "execution_count": 50,
   "metadata": {},
   "outputs": [
    {
     "name": "stdout",
     "output_type": "stream",
     "text": [
      "Variable Names: ExpertWallets BeginnerWallets\n",
      "Variable Values: None None\n"
     ]
    }
   ],
   "source": [
    "E = plp.LpVariable('ExpertWallets', 0, None, plp.LpInteger)\n",
    "B = plp.LpVariable('BeginnerWallets', 0, None, plp.LpInteger)\n",
    "\n",
    "print('Variable Names:', E.name, B.name)\n",
    "print('Variable Values:', E.varValue, B.varValue)"
   ]
  },
  {
   "cell_type": "markdown",
   "metadata": {},
   "source": [
    "Define objective function using decision variables. "
   ]
  },
  {
   "cell_type": "code",
   "execution_count": 51,
   "metadata": {},
   "outputs": [
    {
     "data": {
      "text/plain": [
       "fraudsterWalletProblem:\n",
       "MAXIMIZE\n",
       "20*BeginnerWallets + 50*ExpertWallets + 0\n",
       "VARIABLES\n",
       "0 <= BeginnerWallets Integer\n",
       "0 <= ExpertWallets Integer"
      ]
     },
     "execution_count": 51,
     "metadata": {},
     "output_type": "execute_result"
    }
   ],
   "source": [
    "lp_prob += 50 * E + 20 * B\n",
    "\n",
    "lp_prob"
   ]
  },
  {
   "cell_type": "markdown",
   "metadata": {},
   "source": [
    "Define constraints using decision variables and inequalities."
   ]
  },
  {
   "cell_type": "code",
   "execution_count": 52,
   "metadata": {},
   "outputs": [],
   "source": [
    "lp_prob += 8 * E + 2 * B <= 24\n",
    "lp_prob += E + B <= 5"
   ]
  },
  {
   "cell_type": "markdown",
   "metadata": {},
   "source": [
    "Solve the linear program."
   ]
  },
  {
   "cell_type": "code",
   "execution_count": 53,
   "metadata": {},
   "outputs": [
    {
     "data": {
      "text/plain": [
       "1"
      ]
     },
     "execution_count": 53,
     "metadata": {},
     "output_type": "execute_result"
    }
   ],
   "source": [
    "lp_prob.solve()"
   ]
  },
  {
   "cell_type": "markdown",
   "metadata": {},
   "source": [
    "Print the optimized values."
   ]
  },
  {
   "cell_type": "code",
   "execution_count": 54,
   "metadata": {},
   "outputs": [
    {
     "name": "stdout",
     "output_type": "stream",
     "text": [
      "BeginnerWallets = 3.0\n",
      "ExpertWallets = 2.0\n"
     ]
    }
   ],
   "source": [
    "for v in lp_prob.variables():\n",
    "    print(v.name, '=', v.varValue)"
   ]
  }
 ],
 "metadata": {
  "kernelspec": {
   "display_name": "Python 3",
   "language": "python",
   "name": "python3"
  },
  "language_info": {
   "codemirror_mode": {
    "name": "ipython",
    "version": 3
   },
   "file_extension": ".py",
   "mimetype": "text/x-python",
   "name": "python",
   "nbconvert_exporter": "python",
   "pygments_lexer": "ipython3",
   "version": "3.8.5"
  }
 },
 "nbformat": 4,
 "nbformat_minor": 4
}
