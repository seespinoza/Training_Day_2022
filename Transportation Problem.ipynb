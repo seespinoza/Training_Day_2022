{
 "cells": [
  {
   "cell_type": "code",
   "execution_count": 41,
   "metadata": {},
   "outputs": [],
   "source": [
    "import pulp as plp"
   ]
  },
  {
   "cell_type": "markdown",
   "metadata": {},
   "source": [
    "Create problem instance."
   ]
  },
  {
   "cell_type": "code",
   "execution_count": 42,
   "metadata": {},
   "outputs": [
    {
     "data": {
      "text/plain": [
       "transportationProblem:\n",
       "MINIMIZE\n",
       "None\n",
       "VARIABLES"
      ]
     },
     "execution_count": 42,
     "metadata": {},
     "output_type": "execute_result"
    }
   ],
   "source": [
    "lp_prob = plp.LpProblem(\"transportationProblem\", plp.LpMinimize)\n",
    "lp_prob "
   ]
  },
  {
   "cell_type": "markdown",
   "metadata": {},
   "source": [
    "Define supply of warehouses."
   ]
  },
  {
   "cell_type": "code",
   "execution_count": 43,
   "metadata": {},
   "outputs": [],
   "source": [
    "w1 = 80\n",
    "w2 = 140\n",
    "w3 = 20\n"
   ]
  },
  {
   "cell_type": "markdown",
   "metadata": {},
   "source": [
    "Define demand of stores. (Remember to include dummy variable; a solution only exists if `supply = demand`.)"
   ]
  },
  {
   "cell_type": "code",
   "execution_count": 44,
   "metadata": {},
   "outputs": [],
   "source": [
    "# Demand\n",
    "s1 = 40\n",
    "s2 = 100\n",
    "s3 = 20\n",
    "dummy_demand = 80"
   ]
  },
  {
   "cell_type": "markdown",
   "metadata": {},
   "source": [
    "Define delivery weights from ith warehouse to jth store."
   ]
  },
  {
   "cell_type": "code",
   "execution_count": 45,
   "metadata": {},
   "outputs": [],
   "source": [
    "#Store 1 to Warehouse 1\n",
    "s1_w1 = 7\n",
    "\n",
    "#Store 2 to Warehouse 1\n",
    "s2_w1 = 3\n",
    "\n",
    "# Store 3 to Warehouse 1\n",
    "s3_w1 = 4\n",
    "\n",
    "#Dummy store to Warehouse 1\n",
    "sd_w1 = 0\n",
    "\n",
    "# ith Store to Warehouse 2\n",
    "s1_w2 = 4\n",
    "s2_w2 = 2\n",
    "s3_w2 = 2\n",
    "sd_w2 = 0\n",
    "\n",
    "# ith Store to Warehouse 3\n",
    "s1_w3 = 2\n",
    "s2_w3 = 1\n",
    "s3_w3 = 5\n",
    "sd_w3 = 0"
   ]
  },
  {
   "cell_type": "markdown",
   "metadata": {},
   "source": [
    "Define decision variables. We want the number of items transported from i-th warehouse to j-th store (12 possibilities)."
   ]
  },
  {
   "cell_type": "code",
   "execution_count": 46,
   "metadata": {},
   "outputs": [
    {
     "data": {
      "text/plain": [
       "{1: item_quantity_1,\n",
       " 2: item_quantity_2,\n",
       " 3: item_quantity_3,\n",
       " 4: item_quantity_4,\n",
       " 5: item_quantity_5,\n",
       " 6: item_quantity_6,\n",
       " 7: item_quantity_7,\n",
       " 8: item_quantity_8,\n",
       " 9: item_quantity_9,\n",
       " 10: item_quantity_10,\n",
       " 11: item_quantity_11,\n",
       " 12: item_quantity_12}"
      ]
     },
     "execution_count": 46,
     "metadata": {},
     "output_type": "execute_result"
    }
   ],
   "source": [
    "x = plp.LpVariable.dicts(\"item_quantity\", list(range(1, 12 + 1)), lowBound = 0, cat = \"Integer\")\n",
    "\n",
    "x"
   ]
  },
  {
   "cell_type": "markdown",
   "metadata": {},
   "source": [
    "Define objective function. Sum of the product of all decision variable and possible route weights."
   ]
  },
  {
   "cell_type": "code",
   "execution_count": 47,
   "metadata": {},
   "outputs": [],
   "source": [
    "lp_prob += (x[1] * s1_w1 + x[2] * s2_w1 + x[3] * s3_w1 + x[4] * sd_w1 \n",
    "            + x[5] * s1_w2 + x[6] * s2_w2 + x[7] * s3_w2 + x[8] * sd_w2\n",
    "            + x[9] * s1_w3 + x[10] * s2_w3 + x[11] * s3_w3 + x[12] * sd_w3)"
   ]
  },
  {
   "cell_type": "markdown",
   "metadata": {},
   "source": [
    "Supply Constraints"
   ]
  },
  {
   "cell_type": "code",
   "execution_count": 48,
   "metadata": {},
   "outputs": [],
   "source": [
    "lp_prob += x[1] + x[2] + x[3] + x[4] == w1\n",
    "lp_prob += x[5] + x[6] + x[7] + x[8] == w2\n",
    "lp_prob += x[9] + x[10] + x[11] + x[12] == w3"
   ]
  },
  {
   "cell_type": "markdown",
   "metadata": {},
   "source": [
    "Demand Constraints"
   ]
  },
  {
   "cell_type": "code",
   "execution_count": 49,
   "metadata": {},
   "outputs": [],
   "source": [
    "lp_prob += x[1] + x[5] + x[9] == s1\n",
    "lp_prob += x[2] + x[6] + x[10] == s2\n",
    "lp_prob += x[3] + x[7] + x[11] == s3\n",
    "lp_prob += x[4] + x[8] + x[12] == dummy_demand"
   ]
  },
  {
   "cell_type": "markdown",
   "metadata": {},
   "source": [
    "Solve"
   ]
  },
  {
   "cell_type": "code",
   "execution_count": 50,
   "metadata": {},
   "outputs": [
    {
     "data": {
      "text/plain": [
       "'Optimal'"
      ]
     },
     "execution_count": 50,
     "metadata": {},
     "output_type": "execute_result"
    }
   ],
   "source": [
    "lp_prob.solve()\n",
    "plp.LpStatus[lp_prob.status]"
   ]
  },
  {
   "cell_type": "markdown",
   "metadata": {},
   "source": [
    "Print Results"
   ]
  },
  {
   "cell_type": "code",
   "execution_count": 51,
   "metadata": {},
   "outputs": [
    {
     "name": "stdout",
     "output_type": "stream",
     "text": [
      "Items from Warehouse 1 to Store 1 = 0.0\n",
      "Items from Warehouse 1 to Store 2 = 0.0\n",
      "Items from Warehouse 1 to Store 3 = 0.0\n",
      "Items from Warehouse 2 to Store 1 = 20.0\n",
      "Items from Warehouse 2 to Store 2 = 100.0\n",
      "Items from Warehouse 2 to Store 3 = 20.0\n",
      "Items from Warehouse 3 to Store 1 = 20.0\n",
      "Items from Warehouse 3 to Store 2 = 0.0\n",
      "Items from Warehouse 3 to Store 3 = 0.0\n"
     ]
    }
   ],
   "source": [
    "print(\"Items from Warehouse 1 to Store 1 = {}\".format(x[1].varValue))\n",
    "print(\"Items from Warehouse 1 to Store 2 = {}\".format(x[2].varValue))\n",
    "print(\"Items from Warehouse 1 to Store 3 = {}\".format(x[3].varValue))\n",
    "print(\"Items from Warehouse 2 to Store 1 = {}\".format(x[5].varValue))\n",
    "print(\"Items from Warehouse 2 to Store 2 = {}\".format(x[6].varValue))\n",
    "print(\"Items from Warehouse 2 to Store 3 = {}\".format(x[7].varValue))\n",
    "print(\"Items from Warehouse 3 to Store 1 = {}\".format(x[9].varValue))\n",
    "print(\"Items from Warehouse 3 to Store 2 = {}\".format(x[10].varValue))\n",
    "print(\"Items from Warehouse 3 to Store 3 = {}\".format(x[11].varValue))"
   ]
  },
  {
   "cell_type": "markdown",
   "metadata": {},
   "source": [
    "Total Cost"
   ]
  },
  {
   "cell_type": "code",
   "execution_count": 52,
   "metadata": {},
   "outputs": [
    {
     "name": "stdout",
     "output_type": "stream",
     "text": [
      "Total transportation cost is $360.0\n"
     ]
    }
   ],
   "source": [
    "print(\"Total transportation cost is ${}\".format(plp.value(lp_prob.objective)))"
   ]
  }
 ],
 "metadata": {
  "kernelspec": {
   "display_name": "Python 3",
   "language": "python",
   "name": "python3"
  },
  "language_info": {
   "codemirror_mode": {
    "name": "ipython",
    "version": 3
   },
   "file_extension": ".py",
   "mimetype": "text/x-python",
   "name": "python",
   "nbconvert_exporter": "python",
   "pygments_lexer": "ipython3",
   "version": "3.8.5"
  }
 },
 "nbformat": 4,
 "nbformat_minor": 4
}
